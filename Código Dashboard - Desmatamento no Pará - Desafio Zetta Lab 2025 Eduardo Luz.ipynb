{
 "cells": [
  {
   "cell_type": "code",
   "execution_count": null,
   "id": "e70661d0",
   "metadata": {},
   "outputs": [],
   "source": [
    "\n",
    "# !pip install pandas plotly pillow scikit-learn matplotlib\n",
    "\n",
    "import pandas as pd\n",
    "import numpy as np\n",
    "import matplotlib.pyplot as plt\n",
    "from sklearn.linear_model import LinearRegression\n",
    "import plotly.graph_objects as go\n",
    "import plotly.io as pio\n",
    "from PIL import Image\n",
    "import base64\n",
    "from io import BytesIO\n"
   ]
  },
  {
   "cell_type": "code",
   "execution_count": null,
   "id": "23cd3c9a",
   "metadata": {},
   "outputs": [],
   "source": [
    "\n",
    "file_path = \"base de dados pará.xlsx\"\n",
    "excel_file = pd.ExcelFile(file_path)\n",
    "df = excel_file.parse('Planilha1')\n"
   ]
  },
  {
   "cell_type": "code",
   "execution_count": null,
   "id": "470580db",
   "metadata": {},
   "outputs": [],
   "source": [
    "\n",
    "df_long = df.melt(id_vars=[\"transition_name\"],\n",
    "                 value_vars=[year for year in range(1986, 2022)],\n",
    "                 var_name=\"Ano\", value_name=\"Area_ha\")\n",
    "df_agg = df_long.groupby([\"transition_name\", \"Ano\"]).sum().reset_index()\n",
    "df_agg_filtered = df_agg[df_agg['Ano'].between(1989, 2021)]\n",
    "df_agg_filtered = df_agg_filtered[~df_agg_filtered['transition_name'].isin([\"Ignorado\", \"Outras transições\"])]\n"
   ]
  },
  {
   "cell_type": "code",
   "execution_count": null,
   "id": "824269be",
   "metadata": {},
   "outputs": [],
   "source": [
    "\n",
    "logo_path = \"Logo ZettaLab.png\"\n",
    "logo_image = Image.open(logo_path)\n",
    "logo_image = logo_image.resize((200, 50))\n",
    "buffered_logo = BytesIO()\n",
    "logo_image.save(buffered_logo, format=\"PNG\")\n",
    "logo_base64 = base64.b64encode(buffered_logo.getvalue()).decode()\n"
   ]
  },
  {
   "cell_type": "code",
   "execution_count": null,
   "id": "aee04182",
   "metadata": {},
   "outputs": [],
   "source": [
    "\n",
    "fig = go.Figure()\n",
    "for transition in df_agg_filtered['transition_name'].unique():\n",
    "    df_filtered = df_agg_filtered[df_agg_filtered['transition_name'] == transition]\n",
    "    fig.add_trace(go.Scatter(x=df_filtered['Ano'], y=df_filtered['Area_ha'],\n",
    "                             mode='lines+markers', name=transition, visible=True))\n"
   ]
  },
  {
   "cell_type": "code",
   "execution_count": null,
   "id": "2ff4c9b0",
   "metadata": {},
   "outputs": [],
   "source": [
    "\n",
    "def treinar_modelo(df, categoria):\n",
    "    df_cat = df[df['transition_name'] == categoria]\n",
    "    X = df_cat['Ano'].values.reshape(-1, 1)\n",
    "    y = df_cat['Area_ha'].values\n",
    "    modelo = LinearRegression()\n",
    "    modelo.fit(X, y)\n",
    "    return modelo\n",
    "\n",
    "modelo_antr = treinar_modelo(df_agg_filtered, 'Antrópico')\n",
    "modelo_veg_prim = treinar_modelo(df_agg_filtered, 'Veg. Primária')\n",
    "\n",
    "anos_proj = np.arange(2022, 2101).reshape(-1, 1)\n",
    "projecao_antr = modelo_antr.predict(anos_proj)\n",
    "projecao_veg_prim = modelo_veg_prim.predict(anos_proj)\n",
    "\n",
    "diferencas = projecao_antr - projecao_veg_prim\n",
    "ano_cruzamento_idx = np.where(diferencas > 0)[0]\n",
    "ano_cruzamento = anos_proj[ano_cruzamento_idx[0]][0] if len(ano_cruzamento_idx) > 0 else None\n"
   ]
  },
  {
   "cell_type": "code",
   "execution_count": null,
   "id": "9eba34fd",
   "metadata": {},
   "outputs": [],
   "source": [
    "\n",
    "# Botão de projeção (mostra apenas as linhas da projeção)\n",
    "button_projecao = dict(\n",
    "    label=\"🔍 Ver Projeção 2100 (Clique Aqui)\",\n",
    "    method=\"update\",\n",
    "    args=[\n",
    "        {\"visible\": [False] * len(df_agg_filtered['transition_name'].unique()) + [True, True]},\n",
    "        {\"title\": \"Projeção: Quando as Áreas Antrópicas Podem Ultrapassar a Vegetação Primária no Pará (1989-2100)\"}\n",
    "    ]\n",
    ")\n",
    "\n",
    "# Botão de volta ao dashboard principal\n",
    "button_voltar = dict(\n",
    "    label=\"🔙 Voltar ao Dashboard\",\n",
    "    method=\"update\",\n",
    "    args=[\n",
    "        {\"visible\": [True] * len(df_agg_filtered['transition_name'].unique()) + [False, False]},\n",
    "        {\"title\": \"DESMATAMENTO E VEGETAÇÃO SECUNDÁRIA NO PARÁ (1989-2021)\"}\n",
    "    ]\n",
    ")\n"
   ]
  },
  {
   "cell_type": "code",
   "execution_count": null,
   "id": "e9c518be",
   "metadata": {},
   "outputs": [],
   "source": [
    "\n",
    "fig.add_trace(go.Scatter(x=anos_proj.flatten(), y=projecao_antr, mode='lines', name='Antrópico (Projeção)', visible=False))\n",
    "fig.add_trace(go.Scatter(x=anos_proj.flatten(), y=projecao_veg_prim, mode='lines', name='Vegetação Primária (Projeção)', visible=False))\n"
   ]
  },
  {
   "cell_type": "code",
   "execution_count": null,
   "id": "8b16fbaf",
   "metadata": {},
   "outputs": [],
   "source": [
    "\n",
    "fig.update_layout(\n",
    "    paper_bgcolor=\"#0d2950\",\n",
    "    plot_bgcolor=\"#0d2950\",\n",
    "    font=dict(color=\"white\"),\n",
    "    title=dict(text=\"DESMATAMENTO E VEGETAÇÃO SECUNDÁRIA NO PARÁ (1989-2021)\", x=0.5, xanchor='center', font=dict(size=20, family=\"Arial\", color=\"white\")),\n",
    "    images=[dict(source=\"data:image/png;base64,\" + logo_base64, xref=\"paper\", yref=\"paper\",\n",
    "                 x=0, y=1.15, sizex=0.15, sizey=0.15, xanchor=\"left\", yanchor=\"top\", layer=\"above\")],\n",
    "    updatemenus=[dict(type=\"buttons\", direction=\"down\", buttons=[button_projecao, button_voltar], x=1.15, y=1.2)]\n",
    ")\n",
    "\n",
    "# Exportar\n",
    "pio.write_html(fig, \"dashboard_desmatamento_com_projecao_integrada.html\")\n"
   ]
  }
 ],
 "metadata": {},
 "nbformat": 4,
 "nbformat_minor": 5
}